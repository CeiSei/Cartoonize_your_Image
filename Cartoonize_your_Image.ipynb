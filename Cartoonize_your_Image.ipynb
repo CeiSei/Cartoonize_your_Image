{
 "cells": [
  {
   "cell_type": "code",
   "execution_count": 45,
   "id": "5de3a476-62ea-4cb9-9b4d-2585a6b35c8e",
   "metadata": {},
   "outputs": [],
   "source": [
    "import cv2\n",
    "import numpy as np\n",
    "\n",
    "img = cv2.imread('image.jpg')\n",
    "\n",
    "threshold1 = 500\n",
    "threshold2 = 1200\n",
    "aperture_size = 5\n",
    "img_select = -1\n",
    "\n",
    "# Load the image\n",
    "img = cv2.imread('image.jpg')\n",
    "# Convert the image to grayscale\n",
    "gray = cv2.cvtColor(img, cv2.COLOR_BGR2GRAY)\n",
    "# Apply median blur to reduce noise\n",
    "gray = cv2.medianBlur(gray, 5)\n",
    "# Detect edges using adaptive thresholding\n",
    "edges = cv2.adaptiveThreshold(gray, 255, cv2.ADAPTIVE_THRESH_MEAN_C, cv2.THRESH_BINARY, 9, 9)\n",
    "# Convert the image to color\n",
    "color = cv2.bilateralFilter(img, 9, 300, 300)\n",
    "# Combine the color image with the edges mask\n",
    "cartoon = cv2.bitwise_and(color, color, mask=edges)\n",
    "\n",
    "sharpening_mask = np.array([[-1, -1, -1], [-1, 9, -1], [-1, -1, -1]])\n",
    "cartoon_sharpen = cv2.filter2D(cartoon, -1, sharpening_mask)\n",
    "\n",
    "cartoon_canny = cv2.Canny(img, threshold1, threshold2, apertureSize=aperture_size)\n",
    "\n",
    "show_img = [img, cartoon, cartoon_sharpen, cartoon_canny]\n",
    "\n",
    "idx = 0\n",
    "\n",
    "while True:    \n",
    "    cv2.imshow(\"img\", show_img[idx])\n",
    "    key = cv2.waitKey()\n",
    "    if key == 27:\n",
    "        break\n",
    "    elif key == ord('+') or key == ord('='):\n",
    "        if idx+1 > 3:\n",
    "            continue\n",
    "        else:\n",
    "            idx = idx + 1\n",
    "    elif key == ord('-') or key == ord('_'):\n",
    "        if idx-1 < 0:\n",
    "            continue\n",
    "        else:\n",
    "            idx = idx - 1\n",
    "cv2.destroyAllWindows()"
   ]
  },
  {
   "cell_type": "code",
   "execution_count": null,
   "id": "82684f37-8a21-484c-8085-630df45d48c3",
   "metadata": {},
   "outputs": [],
   "source": []
  }
 ],
 "metadata": {
  "kernelspec": {
   "display_name": "Python 3 (ipykernel)",
   "language": "python",
   "name": "python3"
  },
  "language_info": {
   "codemirror_mode": {
    "name": "ipython",
    "version": 3
   },
   "file_extension": ".py",
   "mimetype": "text/x-python",
   "name": "python",
   "nbconvert_exporter": "python",
   "pygments_lexer": "ipython3",
   "version": "3.11.7"
  }
 },
 "nbformat": 4,
 "nbformat_minor": 5
}
